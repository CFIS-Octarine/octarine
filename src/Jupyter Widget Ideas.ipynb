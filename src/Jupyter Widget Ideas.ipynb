{
 "cells": [
  {
   "cell_type": "code",
   "execution_count": 1,
   "metadata": {
    "collapsed": true
   },
   "outputs": [],
   "source": [
    "# create a Jupyter image that will be our display surface\n",
    "# format can be 'jpeg' or 'png'; specify width and height to set viewer size\n",
    "# PNG will be a little clearer, especially with overlaid graphics, but\n",
    "# JPEG is faster to update\n",
    "import ipywidgets as widgets\n",
    "jup_img = widgets.Image(format='jpeg', width=500, height=500)"
   ]
  },
  {
   "cell_type": "code",
   "execution_count": 2,
   "metadata": {},
   "outputs": [],
   "source": [
    "# Boilerplate to create a Ginga viewer connected to this widget\n",
    "# this could be simplified, or hidden behind a class or convenience \n",
    "# method\n",
    "from ginga.misc.log import get_logger\n",
    "logger = get_logger(\"my viewer\", log_stderr=True, level=20)\n",
    "\n",
    "from ginga.web.jupyterw.ImageViewJpw import EnhancedCanvasView\n",
    "v1 = EnhancedCanvasView(logger=logger)\n",
    "v1.set_widget(jup_img)\n",
    "\n",
    "# Most ginga back ends create a bindings object for you.\n",
    "# Because we don't have any UI events on a Jupyter Image widget (yet),\n",
    "# it doesn't create one as it will not work properly for everything.\n",
    "# It is, nevertheless, useful for connecting to some controls like\n",
    "# panning.  So we create one here.\n",
    "from ginga.Bindings import ImageViewBindings\n",
    "bd = ImageViewBindings(logger)\n",
    "bd.enable_all(True)"
   ]
  },
  {
   "cell_type": "code",
   "execution_count": null,
   "metadata": {
    "collapsed": true
   },
   "outputs": [],
   "source": [
    "# Create a very basic GUI with two sliders for panning and two\n",
    "# buttons for zooming.  There are no event callbacks for actions\n",
    "# on the image widget, so we have to do everything with external\n",
    "# controls\n",
    "\n",
    "# Again, could be folded into a class or convenience method to \n",
    "# create a viewer on demand\n",
    "\n",
    "hpan = widgets.FloatSlider(\n",
    "    value=5.0,\n",
    "    min=0,\n",
    "    max=10.0,\n",
    "    step=0.5,\n",
    "    disabled=False,\n",
    "    continuous_update=True,\n",
    "    orientation='horizontal',\n",
    "    readout=True,\n",
    "    readout_format='.1f',\n",
    "    slider_color='white'\n",
    ")\n",
    "vpan = widgets.FloatSlider(\n",
    "    value=5.0,\n",
    "    min=0,\n",
    "    max=10.0,\n",
    "    step=0.5,\n",
    "    disabled=False,\n",
    "    continuous_update=True,\n",
    "    orientation='vertical',\n",
    "    readout=True,\n",
    "    readout_format='.1f',\n",
    "    slider_color='white'\n",
    ")\n",
    "\n",
    "# callback for panning\n",
    "def pan_pct(hpan, vpan):\n",
    "    bd.pan_by_pct(v1, hpan.value / 10., vpan.value / 10.)\n",
    "\n",
    "hpan.observe(lambda w: pan_pct(hpan, vpan))\n",
    "vpan.observe(lambda w: pan_pct(hpan, vpan))\n",
    "\n",
    "zoom_in = widgets.Button(\n",
    "    description='+',\n",
    "    tooltip='Zoom in the image',\n",
    ")\n",
    "zoom_in.on_click(lambda btn: v1.zoom_in())\n",
    "zoom_out = widgets.Button(\n",
    "    description='-',\n",
    "    tooltip='Zoom out the image',\n",
    ")\n",
    "zoom_out.on_click(lambda btn: v1.zoom_out())\n",
    "\n",
    "widgets.HBox([widgets.VBox([jup_img, hpan]), widgets.VBox([vpan, zoom_in, zoom_out])])"
   ]
  }
 ],
 "metadata": {
  "kernelspec": {
   "display_name": "Python 2",
   "language": "python",
   "name": "python2"
  },
  "language_info": {
   "codemirror_mode": {
    "name": "ipython",
    "version": 2
   },
   "file_extension": ".py",
   "mimetype": "text/x-python",
   "name": "python",
   "nbconvert_exporter": "python",
   "pygments_lexer": "ipython2",
   "version": "2.7.13"
  }
 },
 "nbformat": 4,
 "nbformat_minor": 2
}
